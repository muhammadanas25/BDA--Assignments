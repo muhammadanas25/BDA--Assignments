{
  "nbformat": 4,
  "nbformat_minor": 0,
  "metadata": {
    "kernelspec": {
      "display_name": "Python 3",
      "language": "python",
      "name": "python3"
    },
    "language_info": {
      "codemirror_mode": {
        "name": "ipython",
        "version": 3
      },
      "file_extension": ".py",
      "mimetype": "text/x-python",
      "name": "python",
      "nbconvert_exporter": "python",
      "pygments_lexer": "ipython3",
      "version": "3.8.5"
    },
    "colab": {
      "name": "bda assignment5.ipynb",
      "provenance": [],
      "collapsed_sections": []
    }
  },
  "cells": [
    {
      "cell_type": "code",
      "metadata": {
        "id": "rhfOl99VbqVf"
      },
      "source": [
        "My_Dict = {\n",
        "'person_1':{ 'name' :  'Abdul Rafay', 'age':22, 'Interests':['football','cricket'], 'amount_deposited':\n",
        "[24000,26000] },\n",
        "'person_2':{ 'name' : 'Nancy James', 'age':23, 'Interests':['baseball','cricket'], 'amount_deposited':\n",
        "[24000,27000] },\n",
        "'person_3':{ 'name' : 'Selena Gomez', 'age':26,' Interests':['baseball','table tennis'],\n",
        "'amount_deposited':[24000,28000] }\n",
        "}"
      ],
      "execution_count": 119,
      "outputs": []
    },
    {
      "cell_type": "code",
      "metadata": {
        "id": "dHrUUbJ8bqZc",
        "colab": {
          "base_uri": "https://localhost:8080/"
        },
        "outputId": "a696b175-2750-4fc0-afd5-cecf9a9dab8e"
      },
      "source": [
        "for key,value in My_Dict.items():\n",
        "    print (key,value)"
      ],
      "execution_count": 120,
      "outputs": [
        {
          "output_type": "stream",
          "text": [
            "person_1 {'name': 'Abdul Rafay', 'age': 22, 'Interests': ['football', 'cricket'], 'amount_deposited': [24000, 26000]}\n",
            "person_2 {'name': 'Nancy James', 'age': 23, 'Interests': ['baseball', 'cricket'], 'amount_deposited': [24000, 27000]}\n",
            "person_3 {'name': 'Selena Gomez', 'age': 26, ' Interests': ['baseball', 'table tennis'], 'amount_deposited': [24000, 28000]}\n"
          ],
          "name": "stdout"
        }
      ]
    },
    {
      "cell_type": "code",
      "metadata": {
        "id": "hQty-8oqUwH3"
      },
      "source": [
        "a_g=['a','b','c','d','e','f','g']"
      ],
      "execution_count": 121,
      "outputs": []
    },
    {
      "cell_type": "code",
      "metadata": {
        "id": "VWS_xQDzbqZd",
        "colab": {
          "base_uri": "https://localhost:8080/"
        },
        "outputId": "f0a6df80-ed7d-41da-c521-d9517ad27e06"
      },
      "source": [
        "map_list=list(map(lambda x: 'Mr '+x[1]['name'] if x[1]['name'][0].lower().lstrip()[0] in a_g else  'Ms '+x[1]['name'],My_Dict.items()))\n",
        "map_list"
      ],
      "execution_count": 122,
      "outputs": [
        {
          "output_type": "execute_result",
          "data": {
            "text/plain": [
              "['Mr Abdul Rafay', 'Ms Nancy James', 'Ms Selena Gomez']"
            ]
          },
          "metadata": {
            "tags": []
          },
          "execution_count": 122
        }
      ]
    },
    {
      "cell_type": "code",
      "metadata": {
        "id": "V5WUWi6GIjQZ"
      },
      "source": [
        "def reduced (l):\n",
        "  from functools import reduce \n",
        "  reduce_data=reduce((lambda x,y:x+y),l)#x[0][1]['amount_deposited'])\n",
        "  return reduce_data"
      ],
      "execution_count": 123,
      "outputs": []
    },
    {
      "cell_type": "code",
      "metadata": {
        "colab": {
          "base_uri": "https://localhost:8080/"
        },
        "id": "PTXEL_8babKN",
        "outputId": "43aa9ecd-0ea1-4be7-8f77-e0cf9f1a1474"
      },
      "source": [
        "for k,v in My_Dict.items():\n",
        "  print(v['amount_deposited'])\n",
        "  v['amount_deposited']=reduced(v['amount_deposited'])\n"
      ],
      "execution_count": 124,
      "outputs": [
        {
          "output_type": "stream",
          "text": [
            "[24000, 26000]\n",
            "[24000, 27000]\n",
            "[24000, 28000]\n"
          ],
          "name": "stdout"
        }
      ]
    },
    {
      "cell_type": "code",
      "metadata": {
        "id": "3BPFMtQbH62T"
      },
      "source": [
        "s_m_k=('s','m','k')"
      ],
      "execution_count": 125,
      "outputs": []
    },
    {
      "cell_type": "code",
      "metadata": {
        "colab": {
          "base_uri": "https://localhost:8080/",
          "height": 167
        },
        "id": "wkYJWDjFHkfu",
        "outputId": "55e28c3e-06e8-47c9-f0a4-83e5cc3636b1"
      },
      "source": [
        "# mapd_data= list (map(lambda x: \"Mr. \"+x if str(x).lower().lstrip().Startswith(s_m_k) else \"Mrs. \" +x ,[My_Dict[:]['name']]))"
      ],
      "execution_count": null,
      "outputs": [
        {
          "output_type": "error",
          "ename": "TypeError",
          "evalue": "ignored",
          "traceback": [
            "\u001b[0;31m---------------------------------------------------------------------------\u001b[0m",
            "\u001b[0;31mTypeError\u001b[0m                                 Traceback (most recent call last)",
            "\u001b[0;32m<ipython-input-9-34f33872074a>\u001b[0m in \u001b[0;36m<module>\u001b[0;34m()\u001b[0m\n\u001b[0;32m----> 1\u001b[0;31m \u001b[0mmapd_data\u001b[0m\u001b[0;34m=\u001b[0m \u001b[0mlist\u001b[0m \u001b[0;34m(\u001b[0m\u001b[0mmap\u001b[0m\u001b[0;34m(\u001b[0m\u001b[0;32mlambda\u001b[0m \u001b[0mx\u001b[0m\u001b[0;34m:\u001b[0m \u001b[0;34m\"Mr. \"\u001b[0m\u001b[0;34m+\u001b[0m\u001b[0mx\u001b[0m \u001b[0;32mif\u001b[0m \u001b[0mstr\u001b[0m\u001b[0;34m(\u001b[0m\u001b[0mx\u001b[0m\u001b[0;34m)\u001b[0m\u001b[0;34m.\u001b[0m\u001b[0mlower\u001b[0m\u001b[0;34m(\u001b[0m\u001b[0;34m)\u001b[0m\u001b[0;34m.\u001b[0m\u001b[0mlstrip\u001b[0m\u001b[0;34m(\u001b[0m\u001b[0;34m)\u001b[0m\u001b[0;34m.\u001b[0m\u001b[0mStartswith\u001b[0m\u001b[0;34m(\u001b[0m\u001b[0ms_m_k\u001b[0m\u001b[0;34m)\u001b[0m \u001b[0;32melse\u001b[0m \u001b[0;34m\"Mrs. \"\u001b[0m \u001b[0;34m+\u001b[0m\u001b[0mx\u001b[0m \u001b[0;34m,\u001b[0m\u001b[0;34m[\u001b[0m\u001b[0mMy_Dict\u001b[0m\u001b[0;34m[\u001b[0m\u001b[0;34m:\u001b[0m\u001b[0;34m]\u001b[0m\u001b[0;34m[\u001b[0m\u001b[0;34m'name'\u001b[0m\u001b[0;34m]\u001b[0m\u001b[0;34m]\u001b[0m\u001b[0;34m)\u001b[0m\u001b[0;34m)\u001b[0m\u001b[0;34m\u001b[0m\u001b[0;34m\u001b[0m\u001b[0m\n\u001b[0m",
            "\u001b[0;31mTypeError\u001b[0m: unhashable type: 'slice'"
          ]
        }
      ]
    },
    {
      "cell_type": "code",
      "metadata": {
        "colab": {
          "base_uri": "https://localhost:8080/"
        },
        "id": "SvOzQMntVdfP",
        "outputId": "ba0eaac4-0ccf-4137-95ed-cb91bac97658"
      },
      "source": [
        "filter_data=list(map(lambda x :   x[x[1]['name'][0].lower().lstrip()[0] not in s_m_k]   ,My_Dict.items()))\n",
        "filter_data"
      ],
      "execution_count": 126,
      "outputs": [
        {
          "output_type": "execute_result",
          "data": {
            "text/plain": [
              "[{'Interests': ['football', 'cricket'],\n",
              "  'age': 22,\n",
              "  'amount_deposited': 50000,\n",
              "  'name': 'Abdul Rafay'},\n",
              " {'Interests': ['baseball', 'cricket'],\n",
              "  'age': 23,\n",
              "  'amount_deposited': 51000,\n",
              "  'name': 'Nancy James'},\n",
              " 'person_3']"
            ]
          },
          "metadata": {
            "tags": []
          },
          "execution_count": 126
        }
      ]
    },
    {
      "cell_type": "code",
      "metadata": {
        "colab": {
          "base_uri": "https://localhost:8080/"
        },
        "id": "HC-AJbBmii_S",
        "outputId": "4e4ab351-b985-4710-bf04-bce767132b73"
      },
      "source": [
        "from datetime import date\n",
        "today = date.today()\n",
        "\n",
        "import pytz\n",
        "\n",
        "utc = pytz.utc\n",
        "pst = pytz.timezone('America/Los_Angeles')\n",
        "ist = pytz.timezone('Asia/Calcutta')\n",
        "\n",
        "\n",
        "new_dict={}\n",
        "new_dict['data']=filter_data\n",
        "new_dict['current-date']='11-Jul-2021'\n",
        "new_dict"
      ],
      "execution_count": 127,
      "outputs": [
        {
          "output_type": "execute_result",
          "data": {
            "text/plain": [
              "{'current-date': '11-Jul-2021',\n",
              " 'data': [{'Interests': ['football', 'cricket'],\n",
              "   'age': 22,\n",
              "   'amount_deposited': 50000,\n",
              "   'name': 'Abdul Rafay'},\n",
              "  {'Interests': ['baseball', 'cricket'],\n",
              "   'age': 23,\n",
              "   'amount_deposited': 51000,\n",
              "   'name': 'Nancy James'},\n",
              "  'person_3']}"
            ]
          },
          "metadata": {
            "tags": []
          },
          "execution_count": 127
        }
      ]
    },
    {
      "cell_type": "code",
      "metadata": {
        "id": "JCrcCKw5kS-Z"
      },
      "source": [
        "import csv\n",
        "a_file = open(\"sample.csv\", \"w\")\n",
        "writer = csv.writer(a_file)\n",
        "for key, value in new_dict.items():\n",
        "    writer.writerow([key, value])\n",
        "\n",
        "a_file.close()"
      ],
      "execution_count": 128,
      "outputs": []
    }
  ]
}