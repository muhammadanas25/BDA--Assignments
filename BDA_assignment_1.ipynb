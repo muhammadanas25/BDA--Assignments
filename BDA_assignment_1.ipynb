{
  "nbformat": 4,
  "nbformat_minor": 0,
  "metadata": {
    "colab": {
      "name": "BDA assignment 1.ipynb",
      "provenance": []
    },
    "kernelspec": {
      "name": "python3",
      "display_name": "Python 3"
    },
    "language_info": {
      "name": "python"
    }
  },
  "cells": [
    {
      "cell_type": "code",
      "metadata": {
        "colab": {
          "base_uri": "https://localhost:8080/"
        },
        "id": "RpyqdWG0gwrc",
        "outputId": "2c846a21-dd53-48ee-f53b-166065383c71"
      },
      "source": [
        "P=float(input(\"Enter the Principal: \"))\n",
        "Ri = float(input(\"Enter the rate of interest: \"))\n",
        "years=int(input(\" Enter the number of years:\"))\n",
        "\n",
        "amt = P *(1+ Ri*years/100)\n",
        "print (f\"After  years at {years}, the investment will be worth ${amt}.\")"
      ],
      "execution_count": 8,
      "outputs": [
        {
          "output_type": "stream",
          "text": [
            "Enter the Principal: 1500\n",
            "Enter the rate of interest: 4.3\n",
            " Enter the number of years:4\n",
            "After  years at 4, the investment will be worth $1758.0.\n"
          ],
          "name": "stdout"
        }
      ]
    },
    {
      "cell_type": "code",
      "metadata": {
        "colab": {
          "base_uri": "https://localhost:8080/"
        },
        "id": "qvEZZTOeijAu",
        "outputId": "15ad0741-5ac4-4b86-93bf-1256490d8824"
      },
      "source": [
        "order_amt=float(input(\" What is the order amount ?\"))\n",
        "state = input(\"What is the state?\")\n",
        "\n",
        "if (state=='WI'):\n",
        "  print (f\"The subtotal is {order_amt}\")\n",
        "  total = 1.055*order_amt\n",
        "  print (\"The tax is $0.55\")\n",
        "  print (f\"the total is {total}\")\n",
        "\n",
        "elif (state=='MN'):\n",
        "  print (f\"The total is ${order_amt}\")\n",
        "\n",
        "\n"
      ],
      "execution_count": 19,
      "outputs": [
        {
          "output_type": "stream",
          "text": [
            " What is the order amount ?10\n",
            "What is the state?MN\n",
            "The total is $10.0\n"
          ],
          "name": "stdout"
        }
      ]
    },
    {
      "cell_type": "code",
      "metadata": {
        "colab": {
          "base_uri": "https://localhost:8080/"
        },
        "id": "bPOpY17ckNSj",
        "outputId": "9de39e5e-9f3b-438b-b3f8-e0b8bc0f1323"
      },
      "source": [
        "psswd= input(\"What is the password?\")\n",
        "if( psswd=='abc$123'):\n",
        " print (\"Welcome!\")\n",
        " \n",
        "elif ( psswd=='12345'):\n",
        "  print (\"I don't know you.\")\n",
        "else :\n",
        "  print (\"I don't know you.\")\n",
        "\n"
      ],
      "execution_count": 22,
      "outputs": [
        {
          "output_type": "stream",
          "text": [
            "What is the password?12345\n",
            "I don't know you.\n"
          ],
          "name": "stdout"
        }
      ]
    },
    {
      "cell_type": "code",
      "metadata": {
        "colab": {
          "base_uri": "https://localhost:8080/",
          "height": 53
        },
        "id": "Obm1rEmXn5aF",
        "outputId": "70083afd-b02c-400e-970f-338d3da7e967"
      },
      "source": [
        "age= int(input(\"What is your age?\"))\n",
        "'You are not old enough to legally drive ' if age<16 else \"you are old enough to legally drive\""
      ],
      "execution_count": 24,
      "outputs": [
        {
          "output_type": "stream",
          "text": [
            "What is your age?34\n"
          ],
          "name": "stdout"
        },
        {
          "output_type": "execute_result",
          "data": {
            "application/vnd.google.colaboratory.intrinsic+json": {
              "type": "string"
            },
            "text/plain": [
              "'you are old enough to legally drive'"
            ]
          },
          "metadata": {
            "tags": []
          },
          "execution_count": 24
        }
      ]
    },
    {
      "cell_type": "code",
      "metadata": {
        "colab": {
          "base_uri": "https://localhost:8080/"
        },
        "id": "ZA8aKFlXpmaa",
        "outputId": "ff20b318-9f05-4a99-acdb-2a87af4c0846"
      },
      "source": [
        "choice = input(\"Press C to convert from Farenheit to Celsius \\n Press F to convert from Farenheit  Celsius TO  Farenheit \\n Your Choice : \")\n",
        "\n",
        "if choice.upper() =='C':\n",
        "  temp= int (input(\"Please enter the temperature in Farenheit :\"))\n",
        "  c=(temp-32)*5/9\n",
        "  print (f\"the temperature in celsius is {c}\")\n",
        "\n",
        "elif choice.upper() =='F':\n",
        "  temp= int (input(\"Please enter the temperature in Celsius:\"))\n",
        "  f=(temp*9/5)+32\n",
        "  print (f\"the temperature in celsius is {f}\")"
      ],
      "execution_count": 32,
      "outputs": [
        {
          "output_type": "stream",
          "text": [
            "Press C to convert from Farenheit to Celsius \n",
            " Press F to convert from Farenheit  Celsius TO  Farenheit \n",
            " Your Choice : c\n",
            "Please enter the temperature in Farenheit :32\n",
            "the temperature in celsius is 0.0\n"
          ],
          "name": "stdout"
        }
      ]
    },
    {
      "cell_type": "code",
      "metadata": {
        "id": "SHhSJO9TqbDi"
      },
      "source": [
        ""
      ],
      "execution_count": null,
      "outputs": []
    }
  ]
}